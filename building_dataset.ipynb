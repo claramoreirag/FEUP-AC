{
 "cells": [
  {
   "cell_type": "code",
   "execution_count": 100,
   "metadata": {},
   "outputs": [],
   "source": [
    "import pandas as pd\n",
    "import numpy as np\n",
    "import math\n",
    "import os\n",
    "import datetime\n",
    "import matplotlib as plt\n",
    "from sklearn import preprocessing\n",
    "pd.set_option('display.max_columns', 200)"
   ]
  },
  {
   "cell_type": "code",
   "execution_count": 88,
   "metadata": {},
   "outputs": [],
   "source": [
    "account = pd.read_csv(\"./data/account.csv\", na_values= ['?', 'NA', ''],sep= ';')\n",
    "card_test = pd.read_csv(\"./data/card_test.csv\",na_values= ['?', 'NA', ''],sep=  ';')\n",
    "card_train = pd.read_csv(\"./data/card_train.csv\",na_values= ['?', 'NA', ''],sep=  ';')\n",
    "client = pd.read_csv(\"./data/client.csv\",na_values= ['?', 'NA', ''],sep=  ';')\n",
    "disposition = pd.read_csv(\"./data/disp.csv\",na_values= ['?', 'NA', ''],sep=  ';')\n",
    "district = pd.read_csv(\"./data/district.csv\",na_values= ['?', 'NA', ''],sep= ';')\n",
    "loan_test = pd.read_csv(\"./data/loan_test.csv\", na_values= ['?', 'NA', ''],sep= ';')\n",
    "loan_train = pd.read_csv(\"./data/loan_train.csv\",na_values= ['?', 'NA', ''],sep=  ';')\n",
    "trans_test = pd.read_csv(\"./data/trans_test.csv\",na_values= ['?', 'NA', ''],sep=  ';')\n",
    "trans_train = pd.read_csv(\"./data/trans_train.csv\",na_values= ['?', 'NA', ''],sep=  ';')"
   ]
  },
  {
   "cell_type": "markdown",
   "metadata": {},
   "source": [
    "Let's start by cleaning the individual tables, to have them ready to merge!"
   ]
  },
  {
   "cell_type": "code",
   "execution_count": 89,
   "metadata": {},
   "outputs": [
    {
     "output_type": "stream",
     "name": "stdout",
     "text": "<class 'pandas.core.frame.DataFrame'>\nRangeIndex: 396685 entries, 0 to 396684\nData columns (total 10 columns):\ntrans_id      396685 non-null int64\naccount_id    396685 non-null int64\ndate          396685 non-null int64\ntype          396685 non-null object\noperation     325924 non-null object\namount        396685 non-null float64\nbalance       396685 non-null float64\nk_symbol      211441 non-null object\nbank          97242 non-null object\naccount       102229 non-null float64\ndtypes: float64(3), int64(3), object(4)\nmemory usage: 30.3+ MB\nNone\nwithdrawal            232093\ncredit                159468\nwithdrawal in cash      5124\nName: type, dtype: int64\nOperation:\n\nwithdrawal in cash              165270\nremittance to another bank       70737\ncredit in cash                   62202\ncollection from another bank     26505\ncredit card withdrawal            1210\nName: operation, dtype: int64\n\nK_symbol:\n\ninterest credited                        70761\npayment for statement                    58377\nhousehold                                42839\n                                         19065\nold-age pension                          13502\ninsurrance payment                        6592\nsanction interest if negative balance      305\nName: k_symbol, dtype: int64\n185244\n"
    }
   ],
   "source": [
    "print(trans_train.info())\n",
    "print(trans_train[\"type\"].value_counts())\n",
    "print(\"Operation:\\n\")\n",
    "print(trans_train[\"operation\"].value_counts())\n",
    "print(\"\\nK_symbol:\\n\")\n",
    "print(trans_train[\"k_symbol\"].value_counts())\n",
    "print(trans_train[\"k_symbol\"].isnull().sum())\n",
    "\n",
    "\n"
   ]
  },
  {
   "cell_type": "markdown",
   "metadata": {},
   "source": [
    "In the transaction table, we observed several details that helped us clean this table:\n",
    "- The 'bank' and 'account' collumns only have information of the sending accounts, which aren't relevant to our problem, so they can be dropped\n",
    "- The 'k_symbol' has a lot of null values and most of them are \"interested credit\" that can be put on the operation row, so this collumn can be dropped and merged with operation\n",
    "- 'Withdrawal in cash' in an option both in operation and type, which doesn't make sense, so we can change all occurences of 'Withdrawal in cash' to simply 'Withdrawal' in the 'type' collumn\n",
    "- The values in the 'ammount' collumn should be negative when 'type' is 'Withdrawal'"
   ]
  },
  {
   "cell_type": "code",
   "execution_count": 90,
   "metadata": {},
   "outputs": [],
   "source": [
    "def get_first(df):\n",
    "    return df.iloc[0]\n",
    "\n",
    "def get_last(df):\n",
    "    return df.iloc[-1]\n",
    "\n",
    "def clean_transaction(filename):\n",
    "    trans = pd.read_csv(filename,na_values= ['?', 'NA', ''],sep=  ';')\n",
    "    trans.loc[trans[\"operation\"].isna(),\"operation\"] = trans.loc[trans[\"operation\"].isna(),\"k_symbol\"]\n",
    "    trans.loc[trans[\"type\"]==\"withdrawal in cash\",\"type\"] = \"withdrawal\"\n",
    "    trans.loc[trans[\"type\"]==\"withdrawal\",\"amount\"] *=-1 \n",
    "    trans = trans.drop(['k_symbol'], axis=1)\n",
    "    trans = trans.drop(['bank', 'account'], axis=1)\n",
    " #   trans[\"date\"] = pd.to_datetime(trans['date'], format='%y%m%d')\n",
    "\n",
    "    #group transactions of the same account and get avg, min and max values\n",
    "    grouped_trans = trans.sort_values(by=['account_id', 'date'],\n",
    "                                            ascending=[True, False]).groupby(['account_id']).agg({'balance': ['mean', 'max', 'min','std']}).reset_index()\n",
    "    grouped_trans.columns = ['account_id', 'balance_mean', 'balance_max', 'balance_min', 'balance_std']\n",
    "    grouped_trans['reached_negative_balance'] = grouped_trans['balance_min']\n",
    "    grouped_trans.loc[grouped_trans[\"balance_min\"] >= 0, \"reached_negative_balance\"] = 1\n",
    "    grouped_trans.loc[grouped_trans[\"balance_min\"] < 0, \"reached_negative_balance\"] = -1\n",
    "\n",
    "    \n",
    "    return grouped_trans\n",
    "\n",
    "trans_train=clean_transaction(\"./data/trans_train.csv\")\n",
    "trans_test=clean_transaction(\"./data/trans_test.csv\")\n"
   ]
  },
  {
   "cell_type": "code",
   "execution_count": 91,
   "metadata": {},
   "outputs": [
    {
     "output_type": "error",
     "ename": "IndentationError",
     "evalue": "expected an indented block (<ipython-input-91-047d5c4f5f35>, line 4)",
     "traceback": [
      "\u001b[1;36m  File \u001b[1;32m\"<ipython-input-91-047d5c4f5f35>\"\u001b[1;36m, line \u001b[1;32m4\u001b[0m\n\u001b[1;33m    clean_account()\u001b[0m\n\u001b[1;37m                ^\u001b[0m\n\u001b[1;31mIndentationError\u001b[0m\u001b[1;31m:\u001b[0m expected an indented block\n"
     ]
    }
   ],
   "source": [
    "def clean_account():\n",
    "   #  account[\"date\"] = pd.to_datetime(account['date'], format='%y%m%d')\n",
    "\n",
    "clean_account()"
   ]
  },
  {
   "cell_type": "code",
   "execution_count": 92,
   "metadata": {},
   "outputs": [],
   "source": [
    "def clean_loan(filename):\n",
    "    loan = pd.read_csv(filename,na_values= ['?', 'NA', ''],sep=  ';')\n",
    "    #loan[\"date\"] = pd.to_datetime(loan['date'], format='%y%m%d')\n",
    "    return loan\n",
    "\n",
    "loan_train=clean_loan(\"./data/loan_train.csv\")\n",
    "loan_test=clean_loan(\"./data/loan_test.csv\")\n"
   ]
  },
  {
   "cell_type": "code",
   "execution_count": 93,
   "metadata": {},
   "outputs": [],
   "source": [
    "def clean_district():\n",
    "    district[\"unemploymant rate '95 \"]=pd.to_numeric(district[\"unemploymant rate '95 \"], errors='coerce')\n",
    "    district[\"unemploymant rate '95 \"]=district[\"unemploymant rate '95 \"].fillna(district[\"unemploymant rate '95 \"].mean())\n",
    "\n",
    "    district[\"no. of commited crimes '95 \"]=pd.to_numeric(district[\"no. of commited crimes '95 \"], errors='coerce')\n",
    "    district[\"no. of commited crimes '95 \"]=district[\"no. of commited crimes '95 \"].fillna(district[\"no. of commited crimes '95 \"].mean())\n",
    "    return district\n",
    " \n",
    "clean_district=clean_district()"
   ]
  },
  {
   "cell_type": "code",
   "execution_count": 94,
   "metadata": {},
   "outputs": [],
   "source": [
    "def clean_card(filename):\n",
    "    card = pd.read_csv(filename,na_values= ['?', 'NA', ''],sep=  ';')\n",
    "    card[\"issued\"] = pd.to_datetime(card['issued'], format='%y%m%d')\n",
    "    return card\n",
    "card_train=clean_card(\"./data/card_train.csv\")\n",
    "card_test=clean_card(\"./data/card_test.csv\")"
   ]
  },
  {
   "cell_type": "code",
   "execution_count": 95,
   "metadata": {
    "tags": [
     "outputPrepend",
     "outputPrepend",
     "outputPrepend"
    ]
   },
   "outputs": [],
   "source": [
    "def fix_birthday(x):\n",
    "    s = str(x)\n",
    "    if(int(str(x)[2:4])>12):\n",
    "        partial=str(int(s[2:4])-50)\n",
    "        if(len(partial)==1): \n",
    "            partial=\"0\"+partial  \n",
    "        res=s[0:2]+partial+s[4:]\n",
    "    else:\n",
    "        return x\n",
    "    return int(res)\n",
    "\n",
    "def fix_date(x):\n",
    "    if x.year > 2000:\n",
    "        year = x.year - 100\n",
    "    else:\n",
    "        year = x.year\n",
    "    return datetime.date(year,x.month,x.day)\n",
    "\n",
    "\n",
    "def clean_client():\n",
    "    client['gender'] = client['birth_number'].apply(lambda x: 'M' if (int(str(x)[2:4])<=12) else 'F')\n",
    "    client[\"birth_number\"] = client[\"birth_number\"].apply(fix_birthday)\n",
    "    #client[\"birth_number\"] = pd.to_datetime(client['birth_number'], format='%y%m%d')\n",
    "    #client[\"birth_number\"] = client[\"birth_number\"].apply(fix_date)\n",
    "\n",
    "clean_client()\n",
    "\n",
    "\n",
    "\n"
   ]
  },
  {
   "cell_type": "code",
   "execution_count": 96,
   "metadata": {},
   "outputs": [],
   "source": [
    "def build_dataset(trans, loans, cards):\n",
    "    final_dataset=loans.merge(account, on='account_id', how='inner',suffixes=('_loan','_account'))\n",
    "    final_dataset = final_dataset.merge(district,  left_on='district_id', right_on=\"code \", how='inner')\n",
    "    final_dataset = final_dataset.drop(columns=[\"code \"])\n",
    "    final_dataset = final_dataset.rename(\n",
    "        columns={'name ': 'account_district_name',\n",
    "                'region': 'account_district_region', 'no. of inhabitants': 'account_district_no. of inhabitants',\n",
    "                'no. of municipalities with inhabitants < 499 ': 'account_district_no. of municipalities with inhabitants < 499',\n",
    "                'no. of municipalities with inhabitants 500-1999': 'account_district_no. of municipalities with inhabitants 500-1999',\n",
    "                'no. of municipalities with inhabitants 2000-9999 ': 'account_district_no. of municipalities with inhabitants 2000-9999',\n",
    "                'no. of municipalities with inhabitants >10000 ': 'account_district_no. of municipalities with inhabitants >10000',\n",
    "                'no. of cities ': 'account_district_no. of cities', 'ratio of urban inhabitants ': 'account_district_ratio of urban inhabitants',\n",
    "                'average salary ': 'account_district_average salary', 'unemploymant rate \\'95 ': 'account_district_unemploymant rate \\'95',\n",
    "                'unemploymant rate \\'96 ': 'account_district_unemploymant rate \\'96',\n",
    "                'no. of enterpreneurs per 1000 inhabitants ': 'account_district_no. of enterpreneurs per 1000 inhabitants',\n",
    "                'no. of commited crimes \\'95 ': 'account_district_no. of commited crimes \\'95',\n",
    "                'no. of commited crimes \\'96 ': 'account_district_no. of commited crimes \\'96'})\n",
    "    client_data = client.merge(disposition, on='client_id', how='inner')\n",
    "    client_data = client_data.merge(district,  left_on='district_id', right_on=\"code \", how='inner')\n",
    "    client_data = client_data.rename(\n",
    "        columns={'code ': 'client_district_id', 'name ': 'client_district_name', \n",
    "        'region': 'client_district_region', 'no. of inhabitants': 'client_district_no. of inhabitants', \n",
    "        'no. of municipalities with inhabitants < 499 ': 'client_district_no. of municipalities with inhabitants < 499', \n",
    "        'no. of municipalities with inhabitants 500-1999': 'client_district_no. of municipalities with inhabitants 500-1999', \n",
    "        'no. of municipalities with inhabitants 2000-9999 ': 'client_district_no. of municipalities with inhabitants 2000-9999', \n",
    "        'no. of municipalities with inhabitants >10000 ': 'client_district_no. of municipalities with inhabitants >10000', \n",
    "        'no. of cities ': 'client_district_no. of cities', 'ratio of urban inhabitants ': 'client_district_ratio of urban inhabitants', \n",
    "        'average salary ': 'client_district_average salary', 'unemploymant rate \\'95 ': 'client_district_unemploymant rate \\'95', \n",
    "        'unemploymant rate \\'96 ': 'client_district_unemploymant rate \\'96', \n",
    "        'no. of enterpreneurs per 1000 inhabitants ': 'client_district_no. of enterpreneurs per 1000 inhabitants', \n",
    "        'no. of commited crimes \\'95 ': 'client_district_no. of commited crimes \\'95', \n",
    "        'no. of commited crimes \\'96 ': 'client_district_no. of commited crimes \\'96'})\n",
    "\n",
    "    client_data = client_data[client_data['type'] == 'OWNER']\n",
    "    client_data = client_data.drop(columns=[\"client_district_id\",'type'])\n",
    "    final_dataset= final_dataset.merge(client_data,on =['account_id'], how='inner',suffixes=('_account','_client'))\n",
    "    final_dataset = final_dataset.merge(trans, on=['account_id'], how='inner')\n",
    "    final_dataset = final_dataset.drop(columns=[\"account_id\",\"disp_id\",'district_id_client','district_id_account', 'client_id'])\n",
    "   \n",
    "    return final_dataset"
   ]
  },
  {
   "cell_type": "code",
   "execution_count": 97,
   "metadata": {},
   "outputs": [
    {
     "output_type": "stream",
     "name": "stdout",
     "text": "<class 'pandas.core.frame.DataFrame'>\nInt64Index: 328 entries, 0 to 327\nData columns (total 45 columns):\nloan_id                                                              328 non-null int64\ndate_loan                                                            328 non-null int64\namount                                                               328 non-null int64\nduration                                                             328 non-null int64\npayments                                                             328 non-null int64\nstatus                                                               328 non-null int64\nfrequency                                                            328 non-null object\ndate_account                                                         328 non-null int64\naccount_district_name                                                328 non-null object\naccount_district_region                                              328 non-null object\naccount_district_no. of inhabitants                                  328 non-null int64\naccount_district_no. of municipalities with inhabitants < 499        328 non-null int64\naccount_district_no. of municipalities with inhabitants 500-1999     328 non-null int64\naccount_district_no. of municipalities with inhabitants 2000-9999    328 non-null int64\naccount_district_no. of municipalities with inhabitants >10000       328 non-null int64\naccount_district_no. of cities                                       328 non-null int64\naccount_district_ratio of urban inhabitants                          328 non-null float64\naccount_district_average salary                                      328 non-null int64\naccount_district_unemploymant rate '95                               328 non-null float64\naccount_district_unemploymant rate '96                               328 non-null float64\naccount_district_no. of enterpreneurs per 1000 inhabitants           328 non-null int64\naccount_district_no. of commited crimes '95                          328 non-null float64\naccount_district_no. of commited crimes '96                          328 non-null int64\nbirth_number                                                         328 non-null int64\ngender                                                               328 non-null object\nclient_district_name                                                 328 non-null object\nclient_district_region                                               328 non-null object\nclient_district_no. of inhabitants                                   328 non-null int64\nclient_district_no. of municipalities with inhabitants < 499         328 non-null int64\nclient_district_no. of municipalities with inhabitants 500-1999      328 non-null int64\nclient_district_no. of municipalities with inhabitants 2000-9999     328 non-null int64\nclient_district_no. of municipalities with inhabitants >10000        328 non-null int64\nclient_district_no. of cities                                        328 non-null int64\nclient_district_ratio of urban inhabitants                           328 non-null float64\nclient_district_average salary                                       328 non-null int64\nclient_district_unemploymant rate '95                                328 non-null float64\nclient_district_unemploymant rate '96                                328 non-null float64\nclient_district_no. of enterpreneurs per 1000 inhabitants            328 non-null int64\nclient_district_no. of commited crimes '95                           328 non-null float64\nclient_district_no. of commited crimes '96                           328 non-null int64\nbalance_mean                                                         328 non-null float64\nbalance_max                                                          328 non-null float64\nbalance_min                                                          328 non-null float64\nbalance_std                                                          328 non-null float64\nreached_negative_balance                                             328 non-null float64\ndtypes: float64(13), int64(26), object(6)\nmemory usage: 117.9+ KB\n"
    }
   ],
   "source": [
    "final_train=build_dataset(trans_train,loan_train,card_train)\n",
    "final_test=build_dataset(trans_test,loan_test,card_test)\n",
    "final_train.to_csv('final_train.csv', index = False)\n",
    "final_test.to_csv('final_test.csv', index = False)\n",
    "final_train.info()"
   ]
  },
  {
   "cell_type": "code",
   "execution_count": 98,
   "metadata": {},
   "outputs": [],
   "source": [
    "def encode_column(df, column):\n",
    "    df_copy = df.copy()\n",
    "    encoder = preprocessing.LabelEncoder()\n",
    "    encoder.fit(df[column].unique())\n",
    "    df_copy[column] = encoder.transform(df_copy[column])\n",
    "    \n",
    "    return df_copy"
   ]
  },
  {
   "cell_type": "code",
   "execution_count": 99,
   "metadata": {},
   "outputs": [
    {
     "output_type": "stream",
     "name": "stdout",
     "text": "<class 'pandas.core.frame.DataFrame'>\nInt64Index: 328 entries, 0 to 327\nData columns (total 45 columns):\nloan_id                                                              328 non-null int64\ndate_loan                                                            328 non-null int64\namount                                                               328 non-null int64\nduration                                                             328 non-null int64\npayments                                                             328 non-null int64\nstatus                                                               328 non-null int64\nfrequency                                                            328 non-null int32\ndate_account                                                         328 non-null int64\naccount_district_name                                                328 non-null int32\naccount_district_region                                              328 non-null int32\naccount_district_no. of inhabitants                                  328 non-null int64\naccount_district_no. of municipalities with inhabitants < 499        328 non-null int64\naccount_district_no. of municipalities with inhabitants 500-1999     328 non-null int64\naccount_district_no. of municipalities with inhabitants 2000-9999    328 non-null int64\naccount_district_no. of municipalities with inhabitants >10000       328 non-null int64\naccount_district_no. of cities                                       328 non-null int64\naccount_district_ratio of urban inhabitants                          328 non-null float64\naccount_district_average salary                                      328 non-null int64\naccount_district_unemploymant rate '95                               328 non-null float64\naccount_district_unemploymant rate '96                               328 non-null float64\naccount_district_no. of enterpreneurs per 1000 inhabitants           328 non-null int64\naccount_district_no. of commited crimes '95                          328 non-null float64\naccount_district_no. of commited crimes '96                          328 non-null int64\nbirth_number                                                         328 non-null int64\ngender                                                               328 non-null int32\nclient_district_name                                                 328 non-null int32\nclient_district_region                                               328 non-null int32\nclient_district_no. of inhabitants                                   328 non-null int64\nclient_district_no. of municipalities with inhabitants < 499         328 non-null int64\nclient_district_no. of municipalities with inhabitants 500-1999      328 non-null int64\nclient_district_no. of municipalities with inhabitants 2000-9999     328 non-null int64\nclient_district_no. of municipalities with inhabitants >10000        328 non-null int64\nclient_district_no. of cities                                        328 non-null int64\nclient_district_ratio of urban inhabitants                           328 non-null float64\nclient_district_average salary                                       328 non-null int64\nclient_district_unemploymant rate '95                                328 non-null float64\nclient_district_unemploymant rate '96                                328 non-null float64\nclient_district_no. of enterpreneurs per 1000 inhabitants            328 non-null int64\nclient_district_no. of commited crimes '95                           328 non-null float64\nclient_district_no. of commited crimes '96                           328 non-null int64\nbalance_mean                                                         328 non-null float64\nbalance_max                                                          328 non-null float64\nbalance_min                                                          328 non-null float64\nbalance_std                                                          328 non-null float64\nreached_negative_balance                                             328 non-null float64\ndtypes: float64(13), int32(6), int64(26)\nmemory usage: 110.2 KB\n"
    }
   ],
   "source": [
    "def encode_dataset(df):\n",
    "    df=encode_column(df,'frequency')\n",
    "    df=encode_column(df,'account_district_name')\n",
    "    df=encode_column(df,'account_district_region')\n",
    "    df=encode_column(df,'client_district_name')\n",
    "    df=encode_column(df,'client_district_region')\n",
    "    df=encode_column(df,'gender')\n",
    "   \n",
    "    return df\n",
    "\n",
    "encoded_train=encode_dataset(final_train)\n",
    "encoded_test=encode_dataset(final_test)\n",
    "encoded_train.info()\n",
    "encoded_train.to_csv('encoded_train.csv', index = False)\n",
    "encoded_test.to_csv('encoded_test.csv', index = False)"
   ]
  },
  {
   "cell_type": "code",
   "execution_count": null,
   "metadata": {},
   "outputs": [],
   "source": []
  }
 ],
 "metadata": {
  "language_info": {
   "codemirror_mode": {
    "name": "ipython",
    "version": 3
   },
   "file_extension": ".py",
   "mimetype": "text/x-python",
   "name": "python",
   "nbconvert_exporter": "python",
   "pygments_lexer": "ipython3",
   "version": "3.9.9-final"
  },
  "orig_nbformat": 2,
  "kernelspec": {
   "name": "python3",
   "display_name": "Python 3"
  }
 },
 "nbformat": 4,
 "nbformat_minor": 2
}