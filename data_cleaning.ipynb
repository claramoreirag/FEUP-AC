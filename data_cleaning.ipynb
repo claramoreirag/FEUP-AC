{
 "cells": [
  {
   "cell_type": "markdown",
   "metadata": {},
   "source": [
    "# AC - Loan or Not to Loan\n",
    "\n",
    "In this project we shall predict, based on a training dataset and using different prediction methods, if certain loan applications should or shouldn't be accepted based on loan applications reviewed in the past and their current status nowadays, which may vary from: paid, delayed, etc.\n",
    "\n",
    "For this we will use different libraries from Python that are specific for these kinds of tasks and a dataset provided by Kaggle. Let's start by importing both of these."
   ]
  },
  {
   "cell_type": "code",
   "execution_count": 1,
   "metadata": {},
   "outputs": [],
   "source": [
    "import pandas as pd\n",
    "import numpy as np\n",
    "import matplotlib as plt"
   ]
  },
  {
   "cell_type": "code",
   "execution_count": 79,
   "metadata": {},
   "outputs": [],
   "source": [
    "account = pd.read_csv(\"./data/account.csv\", na_values= ['?', 'NA', ''],sep= ';')\n",
    "card_test = pd.read_csv(\"./data/card_test.csv\",na_values= ['?', 'NA', ''],sep=  ';')\n",
    "card_train = pd.read_csv(\"./data/card_train.csv\",na_values= ['?', 'NA', ''],sep=  ';')\n",
    "client = pd.read_csv(\"./data/client.csv\",na_values= ['?', 'NA', ''],sep=  ';')\n",
    "disposition = pd.read_csv(\"./data/disp.csv\",na_values= ['?', 'NA', ''],sep=  ';')\n",
    "district = pd.read_csv(\"./data/district.csv\",na_values= ['?', 'NA', ''],sep= ';')\n",
    "loan_test = pd.read_csv(\"./data/loan_test.csv\", na_values= ['?', 'NA', ''],sep= ';')\n",
    "loan_train = pd.read_csv(\"./data/loan_train.csv\",na_values= ['?', 'NA', ''],sep=  ';')\n",
    "transference_test = pd.read_csv(\"./data/trans_test.csv\",na_values= ['?', 'NA', ''],sep=  ';')\n",
    "transference_train = pd.read_csv(\"./data/trans_train.csv\",na_values= ['?', 'NA', ''],sep=  ';')"
   ]
  },
  {
   "cell_type": "markdown",
   "metadata": {},
   "source": [
    " After reading all CSV to Pandas Dataframes, we can now proceed with the Merge of Data to one unique CSV and clean the data all together, comparing it throughout the merge process, to avoid repeated columns. We must also verify if all the merges didn't create new data. Since we are using the Disposition dataframe as primary table to merge all the other ones, there should always be the same number of rows as that table. We will also save the step by step data in csv files in every merge."
   ]
  },
  {
   "cell_type": "code",
   "execution_count": 80,
   "metadata": {},
   "outputs": [
    {
     "output_type": "stream",
     "name": "stdout",
     "text": "---------------MERGE 1---------------\nRows of disposition: 5369\nRows of disposition + client: 5369\n-------------------------------------\n\n---------------MERGE 2---------------\nRows of MERGE 1: 5369\nRows of MERGE 1 + account: 5369\n-------------------------------------\n\nCheck if Client's district is always the same as associated Account's district:\n\nComparison between the two district columns: [ True  True  True ...  True  True  True]\nUnique values of the comparison column: [False  True]\n"
    }
   ],
   "source": [
    "#merge 1\n",
    "disposition_client = disposition.merge(client, on=[\"client_id\"], how='inner')\n",
    "disposition_client = disposition_client.rename(columns={'district_id': 'client_district_id'})\n",
    "\n",
    "disposition_client.to_csv(\"disp_client.csv\")\n",
    "\n",
    "#always check if no new rows were created between merges\n",
    "print(\"---------------MERGE 1---------------\")\n",
    "print(\"Rows of disposition:\", disposition.shape[0])\n",
    "print(\"Rows of disposition + client:\", disposition_client.shape[0])\n",
    "print(\"-------------------------------------\\n\")\n",
    "\n",
    "\n",
    "#merge 2\n",
    "disposition_client_account = disposition_client.merge(\n",
    "    account, on=[\"account_id\"], how=\"inner\")\n",
    "disposition_client_account = disposition_client_account.rename(\n",
    "    columns={'district_id': 'account_district_id'})\n",
    "    \n",
    "disposition_client_account.to_csv(\"disp_cli_acc.csv\", index=False)\n",
    "\n",
    "#always check if no new rows were created between merges\n",
    "print(\"---------------MERGE 2---------------\")\n",
    "print(\"Rows of MERGE 1:\", disposition_client.shape[0])\n",
    "print(\"Rows of MERGE 1 + account:\", disposition_client_account.shape[0])\n",
    "print(\"-------------------------------------\\n\")\n",
    "\n",
    "\n",
    "#if, client's district != account's district, first join with district.csv to check info about client's district, then join with accounts with district again to have account's district info. don't forget to change columns name between joins\n",
    "### check if client_district_id is the same as account_district_id, if so, we only need to have one of those columns \n",
    "\n",
    "print(\"Check if Client's district is always the same as associated Account's district:\"+\"\\n\")\n",
    "comparison_column = np.where(disposition_client_account[\"client_district_id\"] == disposition_client_account[\"account_district_id\"], True, False)\n",
    "print(\"Comparison between the two district columns:\", comparison_column)\n",
    "print(\"Unique values of the comparison column:\", np.unique(comparison_column))\n"
   ]
  },
  {
   "cell_type": "markdown",
   "metadata": {},
   "source": [
    "If there are \"False\" values in the comparison column, it means that **there are accounts with different districts than its associated clients**. That being said, we have to go one step back and before the second merge we have to associate the district with the client and only then proceed with the previously mentioned Merge 2."
   ]
  },
  {
   "cell_type": "code",
   "execution_count": 81,
   "metadata": {},
   "outputs": [
    {
     "output_type": "stream",
     "name": "stdout",
     "text": "---------------New MERGE 2---------------\nRows of MERGE 1: 5369\nRows of MERGE 1 + district: 5369\n-------------------------------------\n\n"
    }
   ],
   "source": [
    "#new Merge 2\n",
    "disposition_client = pd.read_csv(\"disp_client.csv\")\n",
    "\n",
    "disposition_client = disposition_client.rename(\n",
    "    columns={'client_district_id': 'district_id'})\n",
    "\n",
    "district = district.rename(columns={'code ':'district_id'})  #FIXME: WHY ARE YOU GIVING A KEY NOT FOUND ERROR WHEN THERE IS CLEARLY A COLUMN NAMED CODE\n",
    "\n",
    "disposition_client_district = disposition_client.merge(\n",
    "    district, on=[\"district_id\"], how='inner')\n",
    "\n",
    "disposition_client_district = disposition_client_district.rename(\n",
    "    columns={'district_id': 'client_district_id', 'name ': 'client_district_name', \n",
    "    'region': 'client_district_region', 'no. of inhabitants': 'client_district_no. of inhabitants', \n",
    "    'no. of municipalities with inhabitants < 499 ': 'client_district_no. of municipalities with inhabitants < 499', \n",
    "    'no. of municipalities with inhabitants 500-1999': 'client_district_no. of municipalities with inhabitants 500-1999', \n",
    "    'no. of municipalities with inhabitants 2000-9999 ': 'client_district_no. of municipalities with inhabitants 2000-9999', \n",
    "    'no. of municipalities with inhabitants >10000 ': 'client_district_no. of municipalities with inhabitants >10000', \n",
    "    'no. of cities ': 'client_district_no. of cities', 'ratio of urban inhabitants ': 'client_district_ratio of urban inhabitants', \n",
    "    'average salary ': 'client_district_average salary', 'unemploymant rate \\'95 ': 'client_district_unemploymant rate \\'95', \n",
    "    'unemploymant rate \\'96 ': 'client_district_unemploymant rate \\'96', \n",
    "    'no. of enterpreneurs per 1000 inhabitants ': 'client_district_no. of enterpreneurs per 1000 inhabitants', \n",
    "    'no. of commited crimes \\'95 ': 'client_district_no. of commited crimes \\'95', \n",
    "    'no. of commited crimes \\'96 ': 'client_district_no. of commited crimes \\'96'})\n",
    "\n",
    "disposition_client_district.to_csv(\"disp_client-d.csv\", index=False)\n",
    "\n",
    "#always check if no new rows were created between merges\n",
    "print(\"---------------New MERGE 2---------------\")\n",
    "print(\"Rows of MERGE 1:\", disposition_client.shape[0])\n",
    "print(\"Rows of MERGE 1 + district:\", disposition_client_district.shape[0])\n",
    "print(\"-------------------------------------\\n\")\n"
   ]
  },
  {
   "cell_type": "markdown",
   "metadata": {},
   "source": [
    "Now that we have the client district data, we can move on and merge the account data and, consequently, the district account data."
   ]
  },
  {
   "cell_type": "code",
   "execution_count": 82,
   "metadata": {},
   "outputs": [
    {
     "output_type": "stream",
     "name": "stdout",
     "text": "---------------MERGE 3---------------\nRows of MERGE 2: 5369\nRows of MERGE 2 + account: 5369\n-------------------------------------\n\n---------------MERGE 4---------------\nRows of MERGE 3: 5369\nRows of MERGE 3 + district: 5369\n-------------------------------------\n\n"
    }
   ],
   "source": [
    "#merge 3\n",
    "disposition_client_d_account = disposition_client_district.merge(\n",
    "    account, on=[\"account_id\"], how=\"inner\")\n",
    "\n",
    "disposition_client_d_account.to_csv(\"disp_cli-d_acc.csv\", index=False)\n",
    "\n",
    "#always check if no new rows were created between merges\n",
    "print(\"---------------MERGE 3---------------\")\n",
    "print(\"Rows of MERGE 2:\", disposition_client_district.shape[0])\n",
    "print(\"Rows of MERGE 2 + account:\", disposition_client_d_account.shape[0])\n",
    "print(\"-------------------------------------\\n\")\n",
    "\n",
    "\n",
    "#merge 4\n",
    "disposition_client_account_districts = disposition_client_d_account.merge(district, on=[\"district_id\"], how=\"inner\")\n",
    "disposition_client_account_districts = disposition_client_account_districts.rename(\n",
    "    columns={'district_id': 'account_district_id', 'name ': 'account_district_name',\n",
    "             'region': 'account_district_region', 'no. of inhabitants': 'account_district_no. of inhabitants',\n",
    "             'no. of municipalities with inhabitants < 499 ': 'account_district_no. of municipalities with inhabitants < 499',\n",
    "             'no. of municipalities with inhabitants 500-1999': 'account_district_no. of municipalities with inhabitants 500-1999',\n",
    "             'no. of municipalities with inhabitants 2000-9999 ': 'account_district_no. of municipalities with inhabitants 2000-9999',\n",
    "             'no. of municipalities with inhabitants >10000 ': 'account_district_no. of municipalities with inhabitants >10000',\n",
    "             'no. of cities ': 'account_district_no. of cities', 'ratio of urban inhabitants ': 'account_district_ratio of urban inhabitants',\n",
    "             'average salary ': 'account_district_average salary', 'unemploymant rate \\'95 ': 'account_district_unemploymant rate \\'95',\n",
    "             'unemploymant rate \\'96 ': 'account_district_unemploymant rate \\'96',\n",
    "             'no. of enterpreneurs per 1000 inhabitants ': 'account_district_no. of enterpreneurs per 1000 inhabitants',\n",
    "             'no. of commited crimes \\'95 ': 'account_district_no. of commited crimes \\'95',\n",
    "             'no. of commited crimes \\'96 ': 'account_district_no. of commited crimes \\'96'})\n",
    "\n",
    "\n",
    "disposition_client_account_districts.to_csv(\"disp_cli_acc_dist.csv\", index=False)\n",
    "\n",
    "#always check if no new rows were created between merges\n",
    "print(\"---------------MERGE 4---------------\")\n",
    "print(\"Rows of MERGE 3:\", disposition_client_d_account.shape[0])\n",
    "print(\"Rows of MERGE 3 + district:\", disposition_client_account_districts.shape[0])\n",
    "print(\"-------------------------------------\\n\")\n"
   ]
  },
  {
   "cell_type": "markdown",
   "metadata": {},
   "source": [
    "The client's birthday is in a very specific format which allows us to know which of them are men or women. However, for prediction purposes, the format in which it is isn't very readable or usable. Let's reverse the date conversion and create a new column \"gender\" to substitute the previous date format."
   ]
  },
  {
   "cell_type": "code",
   "execution_count": 83,
   "metadata": {
    "tags": [
     "outputPrepend",
     "outputPrepend",
     "outputPrepend",
     "outputPrepend",
     "outputPrepend",
     "outputPrepend",
     "outputPrepend",
     "outputPrepend"
    ]
   },
   "outputs": [
    {
     "output_type": "stream",
     "name": "stdout",
     "text": "0       701213\n1       780313\n2       350708\n3       800413\n4       791021\n5       460224\n6       410124\n7       660929\n8       791123\n9       440203\n10      390806\n11      790218\n12      611027\n13      520522\n14      440204\n15      320306\n16      261018\n17      460716\n18      730102\n19      240909\n20      210507\n21      700521\n22      630225\n23      650122\n24      680413\n25      730410\n26      230322\n27      410206\n28      470908\n29      630722\n         ...  \n5339    480108\n5340    651115\n5341    570909\n5342    710106\n5343    800312\n5344    610725\n5345    660820\n5346    201025\n5347    230108\n5348    410127\n5349    410225\n5350    650828\n5351    730512\n5352    510709\n5353    771122\n5354    760506\n5355    190823\n5356    460430\n5357    550411\n5358    760916\n5359    840918\n5360    600606\n5361    600308\n5362    620102\n5363    681030\n5364    680417\n5365    411104\n5366    630515\n5367    570725\n5368    561206\nName: birth_number, Length: 5369, dtype: int64\n"
    }
   ],
   "source": [
    "static_dataset = pd.read_csv(\"disp_cli_acc_dist.csv\")\n",
    "\n",
    "static_dataset['gender'] = static_dataset['birth_number'].apply(\n",
    "    lambda x: 'M' if (int(str(x)[2:3])<=12) else 'F')\n",
    "\n",
    "def fix_birthday(x):\n",
    "    s = str(x)\n",
    "   \n",
    "    if(int(s[2:4])>12):\n",
    "        partial=str(int(s[2:4])-50)\n",
    "        if(len(partial)==1): \n",
    "            partial=\"0\"+partial  \n",
    "        res=s[0:2]+partial+s[4:]\n",
    "       \n",
    "    else:\n",
    "        return x\n",
    "    \n",
    "    return int(res)\n",
    "\n",
    "#FIXME\n",
    "static_dataset[\"birth_number\"] = static_dataset[\"birth_number\"].apply(fix_birthday)\n",
    "\n",
    "print(static_dataset['birth_number'])"
   ]
  },
  {
   "cell_type": "code",
   "execution_count": 84,
   "metadata": {},
   "outputs": [
    {
     "output_type": "stream",
     "name": "stdout",
     "text": "61\n61\n57\n57\n"
    },
    {
     "output_type": "execute_result",
     "data": {
      "text/plain": "Unnamed: 0                                                             int64\ndisp_id                                                                int64\nclient_id                                                              int64\naccount_id                                                             int64\ntype                                                                  object\nbirth_number                                                           int64\nclient_district_id                                                     int64\nclient_district_name                                                  object\nclient_district_region                                                object\nclient_district_no. of inhabitants                                     int64\nclient_district_no. of municipalities with inhabitants < 499           int64\nclient_district_no. of municipalities with inhabitants 500-1999        int64\nclient_district_no. of municipalities with inhabitants 2000-9999       int64\nclient_district_no. of municipalities with inhabitants >10000          int64\nclient_district_no. of cities                                          int64\nclient_district_ratio of urban inhabitants                           float64\nclient_district_average salary                                         int64\nclient_district_unemploymant rate '95                                float64\nclient_district_unemploymant rate '96                                float64\nclient_district_no. of enterpreneurs per 1000 inhabitants              int64\nclient_district_no. of commited crimes '95                           float64\nclient_district_no. of commited crimes '96                             int64\naccount_district_id                                                    int64\nfrequency                                                             object\ndate                                                                   int64\naccount_district_name                                                 object\naccount_district_region                                               object\naccount_district_no. of inhabitants                                    int64\naccount_district_no. of municipalities with inhabitants < 499          int64\naccount_district_no. of municipalities with inhabitants 500-1999       int64\naccount_district_no. of municipalities with inhabitants 2000-9999      int64\naccount_district_no. of municipalities with inhabitants >10000         int64\naccount_district_no. of cities                                         int64\naccount_district_ratio of urban inhabitants                          float64\naccount_district_average salary                                        int64\naccount_district_unemploymant rate '95                               float64\naccount_district_unemploymant rate '96                               float64\naccount_district_no. of enterpreneurs per 1000 inhabitants             int64\naccount_district_no. of commited crimes '95                          float64\naccount_district_no. of commited crimes '96                            int64\ngender                                                                object\ndtype: object"
     },
     "metadata": {},
     "execution_count": 84
    }
   ],
   "source": [
    "print(static_dataset[\"client_district_unemploymant rate '95\"].isnull().sum())\n",
    "print(static_dataset[\"client_district_no. of commited crimes '95\"].isnull().sum())\n",
    "print(static_dataset[\"account_district_unemploymant rate '95\"].isnull().sum())\n",
    "print(static_dataset[\"account_district_no. of commited crimes '95\"].isnull().sum())\n",
    "static_dataset.dtypes"
   ]
  },
  {
   "cell_type": "markdown",
   "metadata": {},
   "source": [
    "As we can see, there are some numeric columns that have non-numeric values: client_district_unemploymant rate '95, account_district_unemploymant rate '95, client_district_no. of commited crimes '95 and account_district_no. of commited crimes '95. To fix this we replaced all non-numeric values with the mean of the numeric values."
   ]
  },
  {
   "cell_type": "code",
   "execution_count": 85,
   "metadata": {},
   "outputs": [
    {
     "output_type": "execute_result",
     "data": {
      "text/plain": "Unnamed: 0                                                             int64\ndisp_id                                                                int64\nclient_id                                                              int64\naccount_id                                                             int64\ntype                                                                  object\nbirth_number                                                           int64\nclient_district_id                                                     int64\nclient_district_name                                                  object\nclient_district_region                                                object\nclient_district_no. of inhabitants                                     int64\nclient_district_no. of municipalities with inhabitants < 499           int64\nclient_district_no. of municipalities with inhabitants 500-1999        int64\nclient_district_no. of municipalities with inhabitants 2000-9999       int64\nclient_district_no. of municipalities with inhabitants >10000          int64\nclient_district_no. of cities                                          int64\nclient_district_ratio of urban inhabitants                           float64\nclient_district_average salary                                         int64\nclient_district_unemploymant rate '95                                float64\nclient_district_unemploymant rate '96                                float64\nclient_district_no. of enterpreneurs per 1000 inhabitants              int64\nclient_district_no. of commited crimes '95                           float64\nclient_district_no. of commited crimes '96                             int64\naccount_district_id                                                    int64\nfrequency                                                             object\ndate                                                                   int64\naccount_district_name                                                 object\naccount_district_region                                               object\naccount_district_no. of inhabitants                                    int64\naccount_district_no. of municipalities with inhabitants < 499          int64\naccount_district_no. of municipalities with inhabitants 500-1999       int64\naccount_district_no. of municipalities with inhabitants 2000-9999      int64\naccount_district_no. of municipalities with inhabitants >10000         int64\naccount_district_no. of cities                                         int64\naccount_district_ratio of urban inhabitants                          float64\naccount_district_average salary                                        int64\naccount_district_unemploymant rate '95                               float64\naccount_district_unemploymant rate '96                               float64\naccount_district_no. of enterpreneurs per 1000 inhabitants             int64\naccount_district_no. of commited crimes '95                          float64\naccount_district_no. of commited crimes '96                            int64\ngender                                                                object\ndtype: object"
     },
     "metadata": {},
     "execution_count": 85
    }
   ],
   "source": [
    "\n",
    "static_dataset[\"client_district_unemploymant rate '95\"]=pd.to_numeric(static_dataset[\"client_district_unemploymant rate '95\"], errors='coerce')\n",
    "static_dataset[\"client_district_unemploymant rate '95\"]=static_dataset[\"client_district_unemploymant rate '95\"].fillna(static_dataset[\"client_district_unemploymant rate '95\"].mean())\n",
    "\n",
    "\n",
    "static_dataset[\"client_district_no. of commited crimes '95\"]=pd.to_numeric(static_dataset[\"client_district_no. of commited crimes '95\"], errors='coerce')\n",
    "static_dataset[\"client_district_no. of commited crimes '95\"]=static_dataset[\"client_district_no. of commited crimes '95\"].fillna(static_dataset[\"client_district_no. of commited crimes '95\"].mean())\n",
    "\n",
    "\n",
    "static_dataset[\"account_district_unemploymant rate '95\"]=pd.to_numeric(static_dataset[\"account_district_unemploymant rate '95\"], errors='coerce')\n",
    "static_dataset[\"account_district_unemploymant rate '95\"]=static_dataset[\"account_district_unemploymant rate '95\"].fillna(static_dataset[\"account_district_unemploymant rate '95\"].mean())\n",
    "\n",
    "\n",
    "\n",
    "static_dataset[\"account_district_no. of commited crimes '95\"]=pd.to_numeric(static_dataset[\"account_district_no. of commited crimes '95\"], errors='coerce')\n",
    "static_dataset[\"account_district_no. of commited crimes '95\"]=static_dataset[\"account_district_no. of commited crimes '95\"].fillna(int(static_dataset[\"account_district_no. of commited crimes '95\"].mean()))\n",
    "\n",
    "static_dataset.dtypes\n"
   ]
  },
  {
   "cell_type": "code",
   "execution_count": 86,
   "metadata": {},
   "outputs": [],
   "source": [
    "static_dataset.to_csv(\"static_dataset.csv\", index=False)"
   ]
  },
  {
   "cell_type": "code",
   "execution_count": 87,
   "metadata": {},
   "outputs": [
    {
     "output_type": "stream",
     "name": "stdout",
     "text": "<class 'pandas.core.frame.DataFrame'>\nInt64Index: 30373 entries, 0 to 30372\nData columns (total 59 columns):\nUnnamed: 0                                                           30373 non-null float64\ndisp_id                                                              30373 non-null int64\nclient_id                                                            30373 non-null float64\naccount_id                                                           30373 non-null float64\ntype                                                                 30373 non-null object\nbirth_number                                                         30373 non-null float64\nclient_district_id                                                   30373 non-null float64\nclient_district_name                                                 30373 non-null object\nclient_district_region                                               30373 non-null object\nclient_district_no. of inhabitants                                   30373 non-null float64\nclient_district_no. of municipalities with inhabitants < 499         30373 non-null float64\nclient_district_no. of municipalities with inhabitants 500-1999      30373 non-null float64\nclient_district_no. of municipalities with inhabitants 2000-9999     30373 non-null float64\nclient_district_no. of municipalities with inhabitants >10000        30373 non-null float64\nclient_district_no. of cities                                        30373 non-null float64\nclient_district_ratio of urban inhabitants                           30373 non-null float64\nclient_district_average salary                                       30373 non-null float64\nclient_district_unemploymant rate '95                                30373 non-null float64\nclient_district_unemploymant rate '96                                30373 non-null float64\nclient_district_no. of enterpreneurs per 1000 inhabitants            30373 non-null float64\nclient_district_no. of commited crimes '95                           30373 non-null float64\nclient_district_no. of commited crimes '96                           30373 non-null float64\naccount_district_id                                                  30373 non-null float64\nfrequency                                                            30373 non-null object\ndate_loan                                                            30373 non-null float64\naccount_district_name                                                30373 non-null object\naccount_district_region                                              30373 non-null object\naccount_district_no. of inhabitants                                  30373 non-null float64\naccount_district_no. of municipalities with inhabitants < 499        30373 non-null float64\naccount_district_no. of municipalities with inhabitants 500-1999     30373 non-null float64\naccount_district_no. of municipalities with inhabitants 2000-9999    30373 non-null float64\naccount_district_no. of municipalities with inhabitants >10000       30373 non-null float64\naccount_district_no. of cities                                       30373 non-null float64\naccount_district_ratio of urban inhabitants                          30373 non-null float64\naccount_district_average salary                                      30373 non-null float64\naccount_district_unemploymant rate '95                               30373 non-null float64\naccount_district_unemploymant rate '96                               30373 non-null float64\naccount_district_no. of enterpreneurs per 1000 inhabitants           30373 non-null float64\naccount_district_no. of commited crimes '95                          30373 non-null float64\naccount_district_no. of commited crimes '96                          30373 non-null float64\ngender                                                               30373 non-null object\nloan_id                                                              30373 non-null float64\ndate_account                                                         30373 non-null float64\namount                                                               30373 non-null float64\nduration                                                             30373 non-null float64\npayments                                                             30373 non-null float64\nstatus                                                               30373 non-null float64\ncard_id                                                              1038 non-null float64\ntype_card                                                            1038 non-null object\nissued                                                               1038 non-null float64\ntrans_id                                                             30373 non-null int64\ndate                                                                 30373 non-null int64\ntype_account                                                         30373 non-null object\noperation                                                            25015 non-null object\namount_account                                                       30373 non-null float64\nbalance                                                              30373 non-null float64\nk_symbol                                                             12451 non-null object\nbank                                                                 5268 non-null object\naccount                                                              8584 non-null float64\ndtypes: float64(44), int64(3), object(12)\nmemory usage: 13.9+ MB\n"
    }
   ],
   "source": [
    "train_dataset = pd.merge(static_dataset, loan_train, left_on='account_id', right_on='account_id', suffixes=('_loan', '_account'))\n",
    "train_dataset = pd.merge(train_dataset, card_train, on = 'disp_id', how = 'outer', suffixes = ('', '_card'))\n",
    "train_dataset = pd.merge(train_dataset, transference_train, on = 'account_id', suffixes = ('', '_account'))\n",
    "train_dataset.info()\n",
    "#train_dataset.to_csv(\"train_dataset.csv\", index=False)"
   ]
  },
  {
   "cell_type": "markdown",
   "metadata": {},
   "source": [
    "Converting nominal data columns to numerical values\n",
    "\n",
    "Frequency collummn:\n",
    "Issuance after transaction : 0\n",
    "Weekly issuance : 1\n",
    "Monthly issuance : 2"
   ]
  },
  {
   "cell_type": "code",
   "execution_count": 76,
   "metadata": {},
   "outputs": [],
   "source": [
    "static_dataset_int=static_dataset\n",
    "static_dataset_int['frequency'] = static_dataset_int['frequency'].str.replace('issuance after transaction','0')\n",
    "static_dataset_int['frequency'] = static_dataset_int['frequency'].str.replace('weekly issuance','1')\n",
    "static_dataset_int['frequency'] = static_dataset_int['frequency'].str.replace('monthly issuance','2')\n",
    "static_dataset_int.to_csv(\"dataset_int.csv\")"
   ]
  },
  {
   "cell_type": "code",
   "execution_count": null,
   "metadata": {},
   "outputs": [],
   "source": []
  }
 ],
 "metadata": {
  "interpreter": {
   "hash": "73c5f639fc5f17e81c041bf2859659ce632f9601e0bd6e44c786cae6c9bf7ef3"
  },
  "kernelspec": {
   "display_name": "Python 3",
   "name": "python3"
  },
  "language_info": {
   "codemirror_mode": {
    "name": "ipython",
    "version": 3
   },
   "file_extension": ".py",
   "mimetype": "text/x-python",
   "name": "python",
   "nbconvert_exporter": "python",
   "pygments_lexer": "ipython3",
   "version": "3.9.9-final"
  },
  "orig_nbformat": 4
 },
 "nbformat": 4,
 "nbformat_minor": 2
}