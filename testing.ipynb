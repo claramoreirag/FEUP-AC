{
 "cells": [
  {
   "cell_type": "markdown",
   "metadata": {},
   "source": [
    "# Testing Algorithms"
   ]
  },
  {
   "cell_type": "code",
   "execution_count": 123,
   "metadata": {},
   "outputs": [],
   "source": [
    "import pandas as pd\n",
    "import numpy as np\n",
    "import math\n",
    "import os\n",
    "import datetime\n",
    "import matplotlib as plt\n",
    "from sklearn.tree import DecisionTreeClassifier\n",
    "from sklearn.svm import SVC\n",
    "from sklearn.neighbors import KNeighborsClassifier\n",
    "from sklearn.neural_network import MLPClassifier\n",
    "from sklearn.model_selection import train_test_split, StratifiedKFold, GridSearchCV, cross_val_score\n",
    "from sklearn.metrics import classification_report, confusion_matrix\n",
    "from sklearn.utils import resample\n",
    "from sklearn.preprocessing import StandardScaler\n",
    "pd.set_option('display.max_columns', 200)"
   ]
  },
  {
   "cell_type": "markdown",
   "metadata": {},
   "source": [
    "## Retrieve the datasets"
   ]
  },
  {
   "cell_type": "code",
   "execution_count": 124,
   "metadata": {},
   "outputs": [],
   "source": [
    "test_data = pd.read_csv(\"./encoded_test.csv\", na_values= ['?', 'NA', ''],sep= ',')\n",
    "train_data = pd.read_csv(\"./encoded_train.csv\",na_values= ['?', 'NA', ''],sep=  ',')\n"
   ]
  },
  {
   "cell_type": "markdown",
   "metadata": {},
   "source": [
    "## Build Predction\n",
    "This function builds the csv for submiting in kaggle"
   ]
  },
  {
   "cell_type": "code",
   "execution_count": 125,
   "metadata": {},
   "outputs": [],
   "source": [
    "def build_prediction(pred):\n",
    "    pred = pd.DataFrame(pred, columns=['col','Predicted'])\n",
    "    pred.drop('col', axis=1, inplace=True)\n",
    "    loan_id = pd.DataFrame(test_data, columns=['loan_id'])\n",
    "\n",
    "    results = pd.concat([loan_id, pred], axis=1)\n",
    "    results = results.rename(\n",
    "            columns={'loan_id': 'Id'})\n",
    "\n",
    "    results.to_csv('results.csv', index = False)\n",
    "    return results\n"
   ]
  },
  {
   "cell_type": "code",
   "execution_count": 126,
   "metadata": {},
   "outputs": [],
   "source": [
    "inputs = train_data.drop(columns=['loan_id', 'status'])\n",
    "labels = train_data['status'].values"
   ]
  },
  {
   "cell_type": "code",
   "execution_count": 127,
   "metadata": {},
   "outputs": [],
   "source": [
    "#(X_train, X_test, y_train, y_test) = train_test_split(inputs, labels, test_size=0.25, random_state=1)\n",
    "X_train = train_data.drop(columns=['loan_id', 'status'])\n",
    "y_train = train_data['status'].values\n",
    "\n",
    "X_test = test_data.drop(columns=['loan_id', 'status'])\n",
    "y_test = test_data['status'].values"
   ]
  },
  {
   "cell_type": "markdown",
   "metadata": {},
   "source": [
    "## SVC "
   ]
  },
  {
   "cell_type": "code",
   "execution_count": 128,
   "metadata": {},
   "outputs": [],
   "source": [
    "test_inputs = test_data.drop(columns=['status', 'loan_id'])\n",
    "svc = SVC(probability=True)\n",
    "svc.fit(X_train, y_train)\n",
    "\n",
    "pred= svc.predict_proba(X_test)\n",
    "results=build_prediction(pred)\n",
    "\n",
    "     "
   ]
  },
  {
   "cell_type": "code",
   "execution_count": null,
   "metadata": {},
   "outputs": [],
   "source": []
  }
 ],
 "metadata": {
  "language_info": {
   "codemirror_mode": {
    "name": "ipython",
    "version": 3
   },
   "file_extension": ".py",
   "mimetype": "text/x-python",
   "name": "python",
   "nbconvert_exporter": "python",
   "pygments_lexer": "ipython3",
   "version": "3.9.9-final"
  },
  "orig_nbformat": 2,
  "kernelspec": {
   "name": "python3",
   "display_name": "Python 3"
  }
 },
 "nbformat": 4,
 "nbformat_minor": 2
}